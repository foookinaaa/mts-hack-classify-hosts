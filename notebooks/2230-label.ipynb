{
 "cells": [
  {
   "cell_type": "code",
   "execution_count": 12,
   "id": "30480c95",
   "metadata": {},
   "outputs": [],
   "source": [
    "import pandas as pd\n",
    "import re\n",
    "import validators\n",
    "import json\n",
    "from tqdm import tqdm_notebook\n",
    "import re\n",
    "from typing import List\n",
    "\n",
    "\n",
    "import pandas as pd\n",
    "from catboost import CatBoostClassifier\n",
    "from sklearn.metrics import precision_score\n",
    "from sklearn.metrics import recall_score\n",
    "from sklearn.model_selection import train_test_split"
   ]
  },
  {
   "cell_type": "code",
   "execution_count": 2,
   "id": "7197a023",
   "metadata": {},
   "outputs": [],
   "source": [
    "df = pd.read_csv('data/host.zip', names=['host']).drop_duplicates()"
   ]
  },
  {
   "cell_type": "code",
   "execution_count": 3,
   "id": "c3626429",
   "metadata": {},
   "outputs": [],
   "source": [
    "with open('data/good_prefix.txt') as f:\n",
    "    good_prefix = json.load(f)\n",
    "    \n",
    "with open('data/good_suffix.txt') as f:\n",
    "    good_suffix = set(json.load(f))\n",
    "    \n",
    "with open('data/good_hosts.txt') as f:\n",
    "    good_hosts = set(json.load(f))\n",
    "\n",
    "with open('data/tlds-alpha-by-domain.txt') as f:\n",
    "    domain_root_zones = f.readlines()\n",
    "    domain_root_zones = [\n",
    "        d[:-1].lower()\n",
    "        for d in domain_root_zones\n",
    "    ]\n",
    "\n",
    "with open('data/all_english_words.json') as f:\n",
    "    english_words = json.load(f)\n",
    "\n",
    "def is_contains_english_words(s):\n",
    "    s = s.lower()\n",
    "    return any(\n",
    "        w in s\n",
    "        for w in english_words\n",
    "    )\n",
    "\n",
    "\n",
    "re_is_ip = re.compile('^((25[0-5]|2[0-4][0-9]|[01]?[0-9][0-9]?)\\.){3}(25[0-5]|2[0-4][0-9]|[01]?[0-9][0-9]?)$')\n",
    "re_m = re.compile('^m[0-9]+')\n",
    "re_2numbers = re.compile('\\d{3}')\n",
    "re_dynamic_prefix = re.compile('^[a-z]{1,2}[0-9]{1,}[\\-\\._]')\n",
    "re_cache_prefix = re.compile('cache-?[0-9]{1,2}')\n",
    "re_digits_only = re.compile('^[0-9]+$')\n",
    "re_infra_prefix = re.compile('^infra-[0-9]+')\n",
    "\n",
    "www_ignore_pattern = [\n",
    "    'www.gstatic.com',\n",
    "    'www.googleadservices.com',\n",
    "    'www.googleapis.com',    \n",
    "    'www.google-analytics.com',\n",
    "    'www.googletagmanager.com',\n",
    "    'www.tns-counter.ru',\n",
    "    'www.googletagservices.com',\n",
    "    'cdn'\n",
    "]\n",
    "\n",
    "tech_patterns_contains = [\n",
    "    'api.',\n",
    "    '.api',\n",
    "    'cdn',\n",
    "    'ad.',\n",
    "    'ads.',\n",
    "    'static.',\n",
    "    's3.',\n",
    "    'cache.',\n",
    "    'stat.',\n",
    "    'logs.',\n",
    "    'log.',\n",
    "    'stats.',\n",
    "    'auth.',\n",
    "    'sentry.',\n",
    "    'script.',\n",
    "    'storage.',\n",
    "    '--',\n",
    "    'an.yandex.ru',\n",
    "    'app-measurement.com',    \n",
    "    'tpc.googlesyndication.com',\n",
    "    'tpc.googlesyndication.com',\n",
    "    'favicon.yandex.net',\n",
    "    'googlesyndication.com',\n",
    "    'analytics.'\n",
    "]\n",
    "tech_pattern_starts = [\n",
    "    'api',\n",
    "    'proxy',\n",
    "    'log',\n",
    "    'static',\n",
    "    'counter',\n",
    "    'sync.',\n",
    "    's.',\n",
    "    'a.',\n",
    "    'c.',\n",
    "    'pixel.',\n",
    "    'v1.',\n",
    "    'ssp.',\n",
    "    'img.',\n",
    "    'rtb.',\n",
    "    'code.',\n",
    "    'cm.',\n",
    "    't.',\n",
    "    'app.',\n",
    "    'grs.',\n",
    "    'analytics.',\n",
    "    'match.',\n",
    "    'adservice.',\n",
    "    'data.',\n",
    "    'd.',\n",
    "    'mc.',\n",
    "    'track.',\n",
    "    'assets',\n",
    "    'st.',\n",
    "    'js',\n",
    "    'connect.',\n",
    "    'media.',\n",
    "    'pagead2.',\n",
    "    'dl.',\n",
    "    'ajax.',\n",
    "    'content.',\n",
    "    'i.',\n",
    "    'tracking.',\n",
    "    'graph.',\n",
    "    'banners.',\n",
    "    'widget.',\n",
    "    'abtest.',\n",
    "    'strm.yandex.ru',\n",
    "    'yabs.yandex.ru',\n",
    "    'push.yandex.ru',\n",
    "    'bs.yandex.ru',\n",
    "    'statistics.',\n",
    "    'tags.',\n",
    "    'cs',\n",
    "    'adx',\n",
    "    'img',\n",
    "    'image',\n",
    "    'ads',\n",
    "    'ct.',\n",
    "    'pics.',\n",
    "    'clk.',\n",
    "    'notify.',\n",
    "    'data',\n",
    "    'ocsp.',\n",
    "    'files.',\n",
    "    'dl-',\n",
    "    'token.',\n",
    "    'graphql.',\n",
    "    'pushserver',\n",
    "    'balancer.',\n",
    "    'go.',\n",
    "    'informer.',\n",
    "    'clck.',\n",
    "    'clicks.',\n",
    "    'click.',\n",
    "    'target.',\n",
    "    'xray.',\n",
    "    'tiles.',\n",
    "    'gridserver.',\n",
    "    'metrika.',\n",
    "    'ntp.',\n",
    "    'fronterr.',\n",
    "    'lib.',\n",
    "    'tracker',\n",
    "    'appgateway',\n",
    "    'frontend.',\n",
    "    'mfa.',\n",
    "    'gate.',\n",
    "    'edge.',\n",
    "    'chat.',\n",
    "    'config.',\n",
    "    'amp.',\n",
    "    'widgets.',\n",
    "    'dev.',\n",
    "    'admin.',\n",
    "    'health.',\n",
    "    'callback.',\n",
    "    'post.',\n",
    "    'xxx-files',\n",
    "    'cluster.',\n",
    "    'ext.',\n",
    "    'file.',\n",
    "    'links.',\n",
    "    'metrics',\n",
    "]\n",
    "\n",
    "tech_patterns_ends = [\n",
    "    '.local',\n",
    "    'googleapis.com',\n",
    "    'googleusercontent.com',\n",
    "    'vkuser.net',\n",
    "    '.akamai',\n",
    "    '.link',\n",
    "    '.googleadservices',\n",
    "    '.googleadserv',\n",
    "]\n",
    "\n",
    "non_tech_pattern_starts = set([\n",
    "    'www.',\n",
    "    'm.',\n",
    "    \"maps\",\n",
    "  \"video\",\n",
    "  \"online\",\n",
    "  \"news\",\n",
    "  \"forum\",\n",
    "  \"berezniki\",\n",
    "  \"mobile\",\n",
    "    \"mail\",\n",
    "    'web.',\n",
    "    'pda.',\n",
    "    'wap.',\n",
    "])\n",
    "\n",
    "\n",
    "def predict_baseline(s):\n",
    "    if re_is_ip.search(s) is not None:\n",
    "        return True\n",
    "    \n",
    "    if not (validators.domain(s) is True):\n",
    "        return True\n",
    "    \n",
    "    if not any(s.endswith(p) for p in domain_root_zones):\n",
    "        return True\n",
    "    \n",
    "    if any(p in s for p in www_ignore_pattern):\n",
    "        return True\n",
    "    \n",
    "    if any(s.endswith(p) for p in tech_patterns_ends):\n",
    "        return True\n",
    "\n",
    "    if any(s.startswith(p) for p in non_tech_pattern_starts):\n",
    "        return False    \n",
    "    \n",
    "    if s in good_hosts:\n",
    "        return True\n",
    "    \n",
    "    \n",
    "    return any(p in s for p in tech_patterns_contains) or (\n",
    "        len(s.split('.')) > 3 and not s.startswith('www.') and not s.startswith('m.')\n",
    "    ) or any(s.startswith(p) for p in tech_pattern_starts) or (\n",
    "        len(s.split('.')[0]) > 10 and len(s.split('.')) >= 3\n",
    "    ) or re_m.search(s) is not None or (\n",
    "        s.endswith('google.com') and s != 'www.google.com'\n",
    "    ) or (\n",
    "        len(s.split('.')) == 2 and len(s) > 25 and re_2numbers.search(s) is not None and '-' in s\n",
    "    ) or (\n",
    "        len(s.split('.')) > 2 and 'api' in s.split('.')[0]\n",
    "    ) or (\n",
    "        len(s.split('.')) > 2 and 'node' in s.split('.')[0]\n",
    "    ) or (\n",
    "        len(s.split('.')) > 2 and s.split('.')[0].startswith('s')\n",
    "    ) or (\n",
    "        len(s.split('.')) > 2 and re_dynamic_prefix.search(s) is not None\n",
    "    ) or (\n",
    "        len(s.split('.')) > 2 and re_cache_prefix.search(s) is not None\n",
    "    ) or (\n",
    "        len(s.split('.')) > 2 and re_digits_only.search(s.split('.')[0]) is not None\n",
    "    ) or (\n",
    "        len(s.split('.')) > 2 and len(s.split('.')[0]) == 1 and s.split('.')[0] != 'm'\n",
    "    ) or (\n",
    "        len(s.split('.')) > 2 and len(s.split('.')[0]) == 2 and s.split('.')[0] not in {\n",
    "            'ru', 'en', 'de', 'us'\n",
    "        }\n",
    "    ) or (\n",
    "        len(s.split('.')) > 2 and re_infra_prefix.search(s.split('.')[0]) is not None\n",
    "    ) or (\n",
    "        len(s.split('.')) > 2 and 'auth' in s.split('.')[0]\n",
    "    ) or (\n",
    "        len(s.split('.')) > 2 and s.split('.')[0] in {\n",
    "            'us-east-2',\n",
    " 'us-east-1',\n",
    " 'us-west-1',\n",
    " 'us-west-2',\n",
    " 'af-south-1',\n",
    " 'ap-east-1',\n",
    " 'ap-south-1',\n",
    " 'ap-northeast-3',\n",
    " 'ap-northeast-2',\n",
    " 'ap-southeast-1',\n",
    " 'ap-southeast-2',\n",
    " 'ap-northeast-1',\n",
    " 'ca-central-1',\n",
    " 'eu-central-1',\n",
    " 'eu-west-1',\n",
    " 'eu-west-2',\n",
    " 'eu-south-1',\n",
    " 'eu-west-3',\n",
    " 'eu-north-1',\n",
    " 'me-south-1',\n",
    " 'sa-east-1',\n",
    " 'us-gov-east-1',\n",
    " 'us-gov-west-1'\n",
    "        }\n",
    "    ) or (\n",
    "        len(s.split('.')) > 2 and 'counter' in s.split('.')[0]\n",
    "    ) or (\n",
    "        len(s.split('.')) > 2 and not is_contains_english_words(s.split('.')[0])\n",
    "    ) or (\n",
    "        not is_contains_english_words(\n",
    "            ''.join(s.split('.')[:-1])\n",
    "        )\n",
    "    )\n"
   ]
  },
  {
   "cell_type": "code",
   "execution_count": 4,
   "id": "98b2cfe2",
   "metadata": {
    "scrolled": true
   },
   "outputs": [
    {
     "name": "stderr",
     "output_type": "stream",
     "text": [
      "<ipython-input-4-1ff1c7f2048d>:4: TqdmDeprecationWarning: This function will be removed in tqdm==5.0.0\n",
      "Please use `tqdm.notebook.tqdm` instead of `tqdm.tqdm_notebook`\n",
      "  for host in tqdm_notebook(hosts)\n"
     ]
    },
    {
     "data": {
      "application/vnd.jupyter.widget-view+json": {
       "model_id": "9a063b23d5414fa6967b54ed3cde8ae8",
       "version_major": 2,
       "version_minor": 0
      },
      "text/plain": [
       "  0%|          | 0/199944 [00:00<?, ?it/s]"
      ]
     },
     "metadata": {},
     "output_type": "display_data"
    }
   ],
   "source": [
    "hosts = df['host'].values.tolist()\n",
    "is_tech = [\n",
    "    predict_baseline(host)\n",
    "    for host in tqdm_notebook(hosts)\n",
    "]"
   ]
  },
  {
   "cell_type": "code",
   "execution_count": 5,
   "id": "dd3c94f1",
   "metadata": {},
   "outputs": [],
   "source": [
    "df['is_tech'] = is_tech"
   ]
  },
  {
   "cell_type": "code",
   "execution_count": 6,
   "id": "e3c6f875",
   "metadata": {},
   "outputs": [
    {
     "data": {
      "text/plain": [
       "0.8432761173128476"
      ]
     },
     "execution_count": 6,
     "metadata": {},
     "output_type": "execute_result"
    }
   ],
   "source": [
    "df['is_tech'].sum() / len(df['is_tech']) # 0.8426744585074386"
   ]
  },
  {
   "cell_type": "code",
   "execution_count": 7,
   "id": "a35ff34f",
   "metadata": {},
   "outputs": [
    {
     "data": {
      "text/html": [
       "<div>\n",
       "<style scoped>\n",
       "    .dataframe tbody tr th:only-of-type {\n",
       "        vertical-align: middle;\n",
       "    }\n",
       "\n",
       "    .dataframe tbody tr th {\n",
       "        vertical-align: top;\n",
       "    }\n",
       "\n",
       "    .dataframe thead th {\n",
       "        text-align: right;\n",
       "    }\n",
       "</style>\n",
       "<table border=\"1\" class=\"dataframe\">\n",
       "  <thead>\n",
       "    <tr style=\"text-align: right;\">\n",
       "      <th></th>\n",
       "      <th>host</th>\n",
       "      <th>is_tech</th>\n",
       "    </tr>\n",
       "  </thead>\n",
       "  <tbody>\n",
       "    <tr>\n",
       "      <th>146161</th>\n",
       "      <td>www.film.ru</td>\n",
       "      <td>False</td>\n",
       "    </tr>\n",
       "    <tr>\n",
       "      <th>66892</th>\n",
       "      <td>film.lordfilm-online.net</td>\n",
       "      <td>False</td>\n",
       "    </tr>\n",
       "    <tr>\n",
       "      <th>548765</th>\n",
       "      <td>yaporn.mobi</td>\n",
       "      <td>False</td>\n",
       "    </tr>\n",
       "    <tr>\n",
       "      <th>546230</th>\n",
       "      <td>www.poravkino.ru</td>\n",
       "      <td>False</td>\n",
       "    </tr>\n",
       "    <tr>\n",
       "      <th>171119</th>\n",
       "      <td>can.concilio.ru</td>\n",
       "      <td>False</td>\n",
       "    </tr>\n",
       "    <tr>\n",
       "      <th>...</th>\n",
       "      <td>...</td>\n",
       "      <td>...</td>\n",
       "    </tr>\n",
       "    <tr>\n",
       "      <th>776845</th>\n",
       "      <td>refpaftjaaey.top</td>\n",
       "      <td>False</td>\n",
       "    </tr>\n",
       "    <tr>\n",
       "      <th>608575</th>\n",
       "      <td>ada.baidu.com</td>\n",
       "      <td>False</td>\n",
       "    </tr>\n",
       "    <tr>\n",
       "      <th>635527</th>\n",
       "      <td>ugonavto.net</td>\n",
       "      <td>False</td>\n",
       "    </tr>\n",
       "    <tr>\n",
       "      <th>254022</th>\n",
       "      <td>orangeimage.ru</td>\n",
       "      <td>False</td>\n",
       "    </tr>\n",
       "    <tr>\n",
       "      <th>69370</th>\n",
       "      <td>realtime.roblox.com</td>\n",
       "      <td>False</td>\n",
       "    </tr>\n",
       "  </tbody>\n",
       "</table>\n",
       "<p>300 rows × 2 columns</p>\n",
       "</div>"
      ],
      "text/plain": [
       "                            host  is_tech\n",
       "146161               www.film.ru    False\n",
       "66892   film.lordfilm-online.net    False\n",
       "548765               yaporn.mobi    False\n",
       "546230          www.poravkino.ru    False\n",
       "171119           can.concilio.ru    False\n",
       "...                          ...      ...\n",
       "776845          refpaftjaaey.top    False\n",
       "608575             ada.baidu.com    False\n",
       "635527              ugonavto.net    False\n",
       "254022            orangeimage.ru    False\n",
       "69370        realtime.roblox.com    False\n",
       "\n",
       "[300 rows x 2 columns]"
      ]
     },
     "execution_count": 7,
     "metadata": {},
     "output_type": "execute_result"
    }
   ],
   "source": [
    "df[~df['is_tech']].sample(300)"
   ]
  },
  {
   "cell_type": "code",
   "execution_count": 8,
   "id": "11ea8f34",
   "metadata": {},
   "outputs": [],
   "source": [
    "df.to_csv('data/train.csv', index=False)"
   ]
  },
  {
   "cell_type": "code",
   "execution_count": null,
   "id": "501e65c2",
   "metadata": {},
   "outputs": [],
   "source": []
  },
  {
   "cell_type": "code",
   "execution_count": null,
   "id": "821fad10",
   "metadata": {},
   "outputs": [],
   "source": []
  },
  {
   "cell_type": "code",
   "execution_count": 19,
   "id": "45b9886c",
   "metadata": {},
   "outputs": [],
   "source": [
    "from sklearn.feature_extraction.text import TfidfVectorizer"
   ]
  },
  {
   "cell_type": "code",
   "execution_count": 27,
   "id": "b3e1f226",
   "metadata": {},
   "outputs": [],
   "source": [
    "#corpus = df['host'].to_list()"
   ]
  },
  {
   "cell_type": "code",
   "execution_count": 25,
   "id": "7b496943",
   "metadata": {},
   "outputs": [],
   "source": [
    "vectorizer = TfidfVectorizer(analyzer='char', ngram_range=(3,3))"
   ]
  },
  {
   "cell_type": "code",
   "execution_count": 82,
   "id": "693acbfe",
   "metadata": {},
   "outputs": [],
   "source": [
    "X_vec = vectorizer.fit_transform(df['host'].apply(lambda x: x.replace('.', '')))"
   ]
  },
  {
   "cell_type": "code",
   "execution_count": 60,
   "id": "dada8208",
   "metadata": {},
   "outputs": [
    {
     "data": {
      "text/plain": [
       "(199944, 48737)"
      ]
     },
     "execution_count": 60,
     "metadata": {},
     "output_type": "execute_result"
    }
   ],
   "source": [
    "X_vec.shape"
   ]
  },
  {
   "cell_type": "code",
   "execution_count": 61,
   "id": "6b864050",
   "metadata": {},
   "outputs": [],
   "source": [
    "from sklearn.linear_model import LogisticRegression\n",
    "import eli5"
   ]
  },
  {
   "cell_type": "code",
   "execution_count": 83,
   "id": "20222fd6",
   "metadata": {},
   "outputs": [],
   "source": [
    "logit = LogisticRegression(C=5e1, solver='liblinear', random_state=17, n_jobs=-1)"
   ]
  },
  {
   "cell_type": "code",
   "execution_count": 84,
   "id": "41014334",
   "metadata": {},
   "outputs": [
    {
     "name": "stderr",
     "output_type": "stream",
     "text": [
      "C:\\ProgramData\\Anaconda3\\lib\\site-packages\\sklearn\\linear_model\\_logistic.py:1353: UserWarning: 'n_jobs' > 1 does not have any effect when 'solver' is set to 'liblinear'. Got 'n_jobs' = 8.\n",
      "  warnings.warn(\"'n_jobs' > 1 does not have any effect when\"\n"
     ]
    },
    {
     "name": "stdout",
     "output_type": "stream",
     "text": [
      "Wall time: 9.31 s\n"
     ]
    },
    {
     "data": {
      "text/plain": [
       "LogisticRegression(C=50.0, n_jobs=-1, random_state=17, solver='liblinear')"
      ]
     },
     "execution_count": 84,
     "metadata": {},
     "output_type": "execute_result"
    }
   ],
   "source": [
    "%%time\n",
    "logit.fit(X_vec, df['is_tech'].astype('int'))"
   ]
  },
  {
   "cell_type": "code",
   "execution_count": 70,
   "id": "77843346",
   "metadata": {},
   "outputs": [],
   "source": [
    "# feat_weight = eli5.show_weights(estimator=logit, \n",
    "#                   feature_names= list(vectorizer.get_feature_names()),\n",
    "#                  top=(50, 5))"
   ]
  },
  {
   "cell_type": "code",
   "execution_count": 99,
   "id": "98881900",
   "metadata": {},
   "outputs": [],
   "source": [
    "feat_weight = eli5.formatters.as_dataframe.explain_weights_df(estimator=logit, \n",
    "                  feature_names= list(vectorizer.get_feature_names()),\n",
    "                 top=(100, 10))"
   ]
  },
  {
   "cell_type": "code",
   "execution_count": 108,
   "id": "446f8aa7",
   "metadata": {},
   "outputs": [],
   "source": [
    "import json\n",
    "with open('ngrams.json', 'w') as f:\n",
    "    ngrams = feat_weight.set_index('feature')['weight'].to_dict()\n",
    "    json.dump(ngrams, f)"
   ]
  },
  {
   "cell_type": "code",
   "execution_count": 127,
   "id": "2292f6d6",
   "metadata": {
    "scrolled": true
   },
   "outputs": [],
   "source": [
    "#ngrams.keys()"
   ]
  },
  {
   "cell_type": "code",
   "execution_count": 147,
   "id": "58f0ebdc",
   "metadata": {},
   "outputs": [],
   "source": [
    "from collections import defaultdict"
   ]
  },
  {
   "cell_type": "code",
   "execution_count": 161,
   "id": "8333a8e1",
   "metadata": {},
   "outputs": [
    {
     "ename": "TypeError",
     "evalue": "_amax_dispatcher() missing 1 required positional argument: 'a'",
     "output_type": "error",
     "traceback": [
      "\u001b[1;31m---------------------------------------------------------------------------\u001b[0m",
      "\u001b[1;31mTypeError\u001b[0m                                 Traceback (most recent call last)",
      "\u001b[1;32m<ipython-input-161-a7bf6bbb706e>\u001b[0m in \u001b[0;36m<module>\u001b[1;34m\u001b[0m\n\u001b[0;32m      1\u001b[0m \u001b[1;32mimport\u001b[0m \u001b[0mnumpy\u001b[0m \u001b[1;32mas\u001b[0m \u001b[0mnp\u001b[0m\u001b[1;33m\u001b[0m\u001b[1;33m\u001b[0m\u001b[0m\n\u001b[0;32m      2\u001b[0m \u001b[1;33m\u001b[0m\u001b[0m\n\u001b[1;32m----> 3\u001b[1;33m \u001b[0mnp\u001b[0m\u001b[1;33m.\u001b[0m\u001b[0mmax\u001b[0m\u001b[1;33m(\u001b[0m\u001b[1;33m)\u001b[0m\u001b[1;33m\u001b[0m\u001b[1;33m\u001b[0m\u001b[0m\n\u001b[0m",
      "\u001b[1;32m<__array_function__ internals>\u001b[0m in \u001b[0;36mamax\u001b[1;34m(*args, **kwargs)\u001b[0m\n",
      "\u001b[1;31mTypeError\u001b[0m: _amax_dispatcher() missing 1 required positional argument: 'a'"
     ]
    }
   ],
   "source": [
    "import numpy as np"
   ]
  },
  {
   "cell_type": "raw",
   "id": "5fdae452",
   "metadata": {},
   "source": [
    "df['ngram_max'] = df['host'].apply(lambda s: max([\n",
    "    ngrams[ngram]\n",
    "    for ngram in ngrams.keys()\n",
    "    if ngram in s\n",
    "] + [0]))\n",
    "\n",
    "df['ngram_min'] = df['host'].apply(lambda s: min([\n",
    "    ngrams[ngram]\n",
    "    for ngram in ngrams.keys()\n",
    "    if ngram in s\n",
    "] + [0]))"
   ]
  },
  {
   "cell_type": "code",
   "execution_count": 155,
   "id": "391a76f1",
   "metadata": {},
   "outputs": [],
   "source": [
    "# d = {}\n",
    "# for i in ngrams.keys():\n",
    "#     for j in df['host'].values:\n",
    "#         if i in j:\n",
    "#             if j not in d.keys():\n",
    "#                 d[j] = []\n",
    "#             d[j].append(ngrams[i])"
   ]
  },
  {
   "cell_type": "code",
   "execution_count": 167,
   "id": "5fc6426b",
   "metadata": {},
   "outputs": [],
   "source": [
    "X, y = df[['host']], df['is_tech'].values.astype(int).tolist()\n",
    "X_train, X_test, y_train, y_test = train_test_split(X[['host']], y, test_size=0.33, random_state=42)"
   ]
  },
  {
   "cell_type": "code",
   "execution_count": 168,
   "id": "c623fd3e",
   "metadata": {},
   "outputs": [],
   "source": [
    "def create_features(hosts: List[str]):\n",
    "        import pandas as pd\n",
    "        import re\n",
    "\n",
    "        df_features = pd.DataFrame()\n",
    "        df_features['host'] = hosts\n",
    "        df_features['url_len'] = df_features['host'].apply(lambda s: len(s))\n",
    "        df_features['max_domain_level'] = df_features['host'].apply(lambda s: len(s.split('.')))\n",
    "        df_features['max_domain_part_len'] = df_features['host'].apply(\n",
    "            lambda s: max((len(s_i) for s_i in s.split('.'))))\n",
    "        \n",
    "        df_features['ngram_max'] = df_features['host'].apply(lambda s: max([\n",
    "            ngrams[ngram]\n",
    "            for ngram in ngrams.keys()\n",
    "            if ngram in s\n",
    "        ] + [0]))\n",
    "\n",
    "        df_features['ngram_min'] = df_features['host'].apply(lambda s: min([\n",
    "            ngrams[ngram]\n",
    "            for ngram in ngrams.keys()\n",
    "            if ngram in s\n",
    "        ] + [0]))\n",
    "\n",
    "        re_digit = re.compile('\\D')\n",
    "        df_features['digits_count'] = df_features['host'].apply(lambda s: len(re_digit.sub('', s)))\n",
    "\n",
    "        del df_features['host']\n",
    "        return df_features"
   ]
  },
  {
   "cell_type": "code",
   "execution_count": 169,
   "id": "f984f2b4",
   "metadata": {},
   "outputs": [
    {
     "name": "stdout",
     "output_type": "stream",
     "text": [
      "ngram_max              26.068791\n",
      "digits_count           21.281518\n",
      "max_domain_level       18.110962\n",
      "max_domain_part_len    17.346728\n",
      "url_len                12.674312\n",
      "ngram_min               4.517689\n",
      "dtype: float64\n",
      "precision=0.97\n",
      "recall=0.97\n"
     ]
    }
   ],
   "source": [
    "X = create_features(X['host'].tolist())\n",
    "X_train = create_features(X_train['host'].tolist())\n",
    "X_test = create_features(X_test['host'].tolist())\n",
    "\n",
    "model = CatBoostClassifier(random_state=0, verbose=0)\n",
    "booster = model.fit(X_train, y_train)\n",
    "print(pd.Series(dict(zip(booster.feature_names_, booster.feature_importances_))).sort_values(ascending=False))\n",
    "predicts = booster.predict(X_test)\n",
    "print(f'precision={round(precision_score(y_test, predicts), 2)}')\n",
    "print(f'recall={round(recall_score(y_test, predicts), 2)}')"
   ]
  },
  {
   "cell_type": "code",
   "execution_count": 195,
   "id": "f9b26caf",
   "metadata": {},
   "outputs": [
    {
     "data": {
      "text/plain": [
       "array([0.05048001, 0.99499176, 0.99985821, 0.99966685, 0.79381322])"
      ]
     },
     "execution_count": 195,
     "metadata": {},
     "output_type": "execute_result"
    }
   ],
   "source": [
    "golden_url = ['yandex.ru', 'api.yandex.ru', 'cdn.vtb.ru', 'no-cdn.vtb.ru', 'ssssexxx131231222221.com']\n",
    "\n",
    "booster.predict_proba(create_features(golden_url))[:, 1]"
   ]
  }
 ],
 "metadata": {
  "kernelspec": {
   "display_name": "Python 3",
   "language": "python",
   "name": "python3"
  },
  "language_info": {
   "codemirror_mode": {
    "name": "ipython",
    "version": 3
   },
   "file_extension": ".py",
   "mimetype": "text/x-python",
   "name": "python",
   "nbconvert_exporter": "python",
   "pygments_lexer": "ipython3",
   "version": "3.6.9"
  }
 },
 "nbformat": 4,
 "nbformat_minor": 5
}
